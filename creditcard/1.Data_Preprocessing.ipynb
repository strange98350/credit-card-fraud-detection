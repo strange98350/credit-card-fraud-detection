{
 "cells": [
  {
   "cell_type": "markdown",
   "id": "719b2b6a",
   "metadata": {},
   "source": [
    "# Data set : https://www.kaggle.com/datasets/ealtman2019/credit-card-transactions/data"
   ]
  },
  {
   "cell_type": "code",
   "execution_count": 2,
   "id": "4e91a66f-98b4-4db2-9dbf-dc483e7ea2b3",
   "metadata": {},
   "outputs": [],
   "source": [
    "import pandas as pd\n",
    "import numpy as np\n",
    "import matplotlib.pyplot as plt\n",
    "import seaborn as sns\n",
    "from sklearn.ensemble import ExtraTreesClassifier"
   ]
  },
  {
   "cell_type": "markdown",
   "id": "6e9e023e",
   "metadata": {},
   "source": [
    "# Read the Dataset"
   ]
  },
  {
   "cell_type": "code",
   "execution_count": 3,
   "id": "4565427e-7eeb-4b2f-9cc1-e6efc079fc53",
   "metadata": {},
   "outputs": [
    {
     "data": {
      "text/html": [
       "<div>\n",
       "<style scoped>\n",
       "    .dataframe tbody tr th:only-of-type {\n",
       "        vertical-align: middle;\n",
       "    }\n",
       "\n",
       "    .dataframe tbody tr th {\n",
       "        vertical-align: top;\n",
       "    }\n",
       "\n",
       "    .dataframe thead th {\n",
       "        text-align: right;\n",
       "    }\n",
       "</style>\n",
       "<table border=\"1\" class=\"dataframe\">\n",
       "  <thead>\n",
       "    <tr style=\"text-align: right;\">\n",
       "      <th></th>\n",
       "      <th>User</th>\n",
       "      <th>Card</th>\n",
       "      <th>Year</th>\n",
       "      <th>Month</th>\n",
       "      <th>Day</th>\n",
       "      <th>Amount</th>\n",
       "      <th>UseChip</th>\n",
       "      <th>MerchantName</th>\n",
       "      <th>MerchantCity</th>\n",
       "      <th>MerchantCountry</th>\n",
       "      <th>Zip</th>\n",
       "      <th>MCC</th>\n",
       "      <th>IssFraud?</th>\n",
       "    </tr>\n",
       "  </thead>\n",
       "  <tbody>\n",
       "    <tr>\n",
       "      <th>0</th>\n",
       "      <td>1</td>\n",
       "      <td>1</td>\n",
       "      <td>2005</td>\n",
       "      <td>9</td>\n",
       "      <td>6</td>\n",
       "      <td>$16.68</td>\n",
       "      <td>Swipe Transaction</td>\n",
       "      <td>Ross Package Store</td>\n",
       "      <td>Berkley</td>\n",
       "      <td>USA</td>\n",
       "      <td>48072.0</td>\n",
       "      <td>5921</td>\n",
       "      <td>No</td>\n",
       "    </tr>\n",
       "    <tr>\n",
       "      <th>1</th>\n",
       "      <td>1</td>\n",
       "      <td>1</td>\n",
       "      <td>2005</td>\n",
       "      <td>9</td>\n",
       "      <td>9</td>\n",
       "      <td>$224.70</td>\n",
       "      <td>Online Transaction</td>\n",
       "      <td>Digital Delivery Company 7</td>\n",
       "      <td>San Jose</td>\n",
       "      <td>NaN</td>\n",
       "      <td>NaN</td>\n",
       "      <td>4899</td>\n",
       "      <td>No</td>\n",
       "    </tr>\n",
       "    <tr>\n",
       "      <th>2</th>\n",
       "      <td>1</td>\n",
       "      <td>1</td>\n",
       "      <td>2005</td>\n",
       "      <td>9</td>\n",
       "      <td>9</td>\n",
       "      <td>$145.61</td>\n",
       "      <td>Online Transaction</td>\n",
       "      <td>Travel Booking Company 4</td>\n",
       "      <td>San Jose</td>\n",
       "      <td>NaN</td>\n",
       "      <td>NaN</td>\n",
       "      <td>4722</td>\n",
       "      <td>No</td>\n",
       "    </tr>\n",
       "    <tr>\n",
       "      <th>3</th>\n",
       "      <td>1</td>\n",
       "      <td>1</td>\n",
       "      <td>2005</td>\n",
       "      <td>9</td>\n",
       "      <td>9</td>\n",
       "      <td>$229.21</td>\n",
       "      <td>Swipe Transaction</td>\n",
       "      <td>Car Rental Company 4</td>\n",
       "      <td>Belleville</td>\n",
       "      <td>USA</td>\n",
       "      <td>48111.0</td>\n",
       "      <td>3405</td>\n",
       "      <td>No</td>\n",
       "    </tr>\n",
       "    <tr>\n",
       "      <th>4</th>\n",
       "      <td>1</td>\n",
       "      <td>1</td>\n",
       "      <td>2005</td>\n",
       "      <td>9</td>\n",
       "      <td>9</td>\n",
       "      <td>$11.00</td>\n",
       "      <td>Swipe Transaction</td>\n",
       "      <td>Supermarket Chain 3</td>\n",
       "      <td>Southfield</td>\n",
       "      <td>USA</td>\n",
       "      <td>48075.0</td>\n",
       "      <td>5411</td>\n",
       "      <td>No</td>\n",
       "    </tr>\n",
       "    <tr>\n",
       "      <th>...</th>\n",
       "      <td>...</td>\n",
       "      <td>...</td>\n",
       "      <td>...</td>\n",
       "      <td>...</td>\n",
       "      <td>...</td>\n",
       "      <td>...</td>\n",
       "      <td>...</td>\n",
       "      <td>...</td>\n",
       "      <td>...</td>\n",
       "      <td>...</td>\n",
       "      <td>...</td>\n",
       "      <td>...</td>\n",
       "      <td>...</td>\n",
       "    </tr>\n",
       "    <tr>\n",
       "      <th>691915</th>\n",
       "      <td>1999</td>\n",
       "      <td>4</td>\n",
       "      <td>2019</td>\n",
       "      <td>4</td>\n",
       "      <td>13</td>\n",
       "      <td>$52.42</td>\n",
       "      <td>Chip Transaction</td>\n",
       "      <td>Wright Beauticians</td>\n",
       "      <td>East Elmhurst</td>\n",
       "      <td>USA</td>\n",
       "      <td>11370.0</td>\n",
       "      <td>7230</td>\n",
       "      <td>No</td>\n",
       "    </tr>\n",
       "    <tr>\n",
       "      <th>691916</th>\n",
       "      <td>1999</td>\n",
       "      <td>4</td>\n",
       "      <td>2019</td>\n",
       "      <td>4</td>\n",
       "      <td>15</td>\n",
       "      <td>$7.57</td>\n",
       "      <td>Chip Transaction</td>\n",
       "      <td>Bookstore Company 1</td>\n",
       "      <td>Elmhurst</td>\n",
       "      <td>USA</td>\n",
       "      <td>11373.0</td>\n",
       "      <td>5942</td>\n",
       "      <td>No</td>\n",
       "    </tr>\n",
       "    <tr>\n",
       "      <th>691917</th>\n",
       "      <td>1999</td>\n",
       "      <td>4</td>\n",
       "      <td>2019</td>\n",
       "      <td>4</td>\n",
       "      <td>15</td>\n",
       "      <td>$7.27</td>\n",
       "      <td>Chip Transaction</td>\n",
       "      <td>Supermarket Chain 1</td>\n",
       "      <td>Elmhurst</td>\n",
       "      <td>USA</td>\n",
       "      <td>11373.0</td>\n",
       "      <td>5411</td>\n",
       "      <td>No</td>\n",
       "    </tr>\n",
       "    <tr>\n",
       "      <th>691918</th>\n",
       "      <td>1999</td>\n",
       "      <td>4</td>\n",
       "      <td>2019</td>\n",
       "      <td>4</td>\n",
       "      <td>17</td>\n",
       "      <td>$5.39</td>\n",
       "      <td>Chip Transaction</td>\n",
       "      <td>Acme Souvenirs</td>\n",
       "      <td>East Elmhurst</td>\n",
       "      <td>USA</td>\n",
       "      <td>11370.0</td>\n",
       "      <td>5947</td>\n",
       "      <td>No</td>\n",
       "    </tr>\n",
       "    <tr>\n",
       "      <th>691919</th>\n",
       "      <td>1999</td>\n",
       "      <td>4</td>\n",
       "      <td>2019</td>\n",
       "      <td>4</td>\n",
       "      <td>24</td>\n",
       "      <td>$15.59</td>\n",
       "      <td>Chip Transaction</td>\n",
       "      <td>Fox East Elmhurst Car Cleaners</td>\n",
       "      <td>East Elmhurst</td>\n",
       "      <td>USA</td>\n",
       "      <td>11370.0</td>\n",
       "      <td>7542</td>\n",
       "      <td>No</td>\n",
       "    </tr>\n",
       "  </tbody>\n",
       "</table>\n",
       "<p>691920 rows × 13 columns</p>\n",
       "</div>"
      ],
      "text/plain": [
       "        User  Card  Year  Month  Day   Amount             UseChip  \\\n",
       "0          1     1  2005      9    6   $16.68   Swipe Transaction   \n",
       "1          1     1  2005      9    9  $224.70  Online Transaction   \n",
       "2          1     1  2005      9    9  $145.61  Online Transaction   \n",
       "3          1     1  2005      9    9  $229.21   Swipe Transaction   \n",
       "4          1     1  2005      9    9   $11.00   Swipe Transaction   \n",
       "...      ...   ...   ...    ...  ...      ...                 ...   \n",
       "691915  1999     4  2019      4   13   $52.42    Chip Transaction   \n",
       "691916  1999     4  2019      4   15    $7.57    Chip Transaction   \n",
       "691917  1999     4  2019      4   15    $7.27    Chip Transaction   \n",
       "691918  1999     4  2019      4   17    $5.39    Chip Transaction   \n",
       "691919  1999     4  2019      4   24   $15.59    Chip Transaction   \n",
       "\n",
       "                          MerchantName   MerchantCity MerchantCountry  \\\n",
       "0                   Ross Package Store        Berkley             USA   \n",
       "1           Digital Delivery Company 7      San Jose              NaN   \n",
       "2             Travel Booking Company 4      San Jose              NaN   \n",
       "3                 Car Rental Company 4     Belleville             USA   \n",
       "4                  Supermarket Chain 3     Southfield             USA   \n",
       "...                                ...            ...             ...   \n",
       "691915              Wright Beauticians  East Elmhurst             USA   \n",
       "691916             Bookstore Company 1       Elmhurst             USA   \n",
       "691917             Supermarket Chain 1       Elmhurst             USA   \n",
       "691918                  Acme Souvenirs  East Elmhurst             USA   \n",
       "691919  Fox East Elmhurst Car Cleaners  East Elmhurst             USA   \n",
       "\n",
       "            Zip   MCC IssFraud?  \n",
       "0       48072.0  5921        No  \n",
       "1           NaN  4899        No  \n",
       "2           NaN  4722        No  \n",
       "3       48111.0  3405        No  \n",
       "4       48075.0  5411        No  \n",
       "...         ...   ...       ...  \n",
       "691915  11370.0  7230        No  \n",
       "691916  11373.0  5942        No  \n",
       "691917  11373.0  5411        No  \n",
       "691918  11370.0  5947        No  \n",
       "691919  11370.0  7542        No  \n",
       "\n",
       "[691920 rows x 13 columns]"
      ]
     },
     "execution_count": 3,
     "metadata": {},
     "output_type": "execute_result"
    }
   ],
   "source": [
    "# Loading the data\n",
    "df = pd.read_csv('ccfd.csv')\n",
    "df"
   ]
  },
  {
   "cell_type": "code",
   "execution_count": 4,
   "id": "00774e66-ce46-4461-aee8-87b0c5b5d020",
   "metadata": {},
   "outputs": [
    {
     "data": {
      "text/plain": [
       "Index(['User', 'Card', 'Year', 'Month', 'Day', 'Amount', 'UseChip',\n",
       "       'MerchantName', 'MerchantCity', 'MerchantCountry', 'Zip', 'MCC',\n",
       "       'IssFraud?'],\n",
       "      dtype='object')"
      ]
     },
     "execution_count": 4,
     "metadata": {},
     "output_type": "execute_result"
    }
   ],
   "source": [
    "#User- column for user id details\n",
    "#Card-Column for card number\n",
    "#Year- column for year of transaction\n",
    "#Month-column for month of transaction\n",
    "#Day-column for Day of transaction\n",
    "#Amount-for how much amount transacted \n",
    "#Use Chip-for transaction is based on online or swipe transaction\n",
    "#Merchant name- Name of the merchant in the transaction\n",
    "#Merchant city-Merchant city name in the transaction\n",
    "#Merchant state-Merchant state name in the transaction\n",
    "#Zip-Postal code of the merchant area\n",
    "#MCC-It is a four number pin given by bank for each card\n",
    "df.columns"
   ]
  },
  {
   "cell_type": "markdown",
   "id": "f7864633",
   "metadata": {},
   "source": [
    "# Check Null values"
   ]
  },
  {
   "cell_type": "code",
   "execution_count": 5,
   "id": "5f4abfbe-8503-497f-b7b5-3a7d5fbb6e4a",
   "metadata": {},
   "outputs": [
    {
     "data": {
      "text/plain": [
       "User                   0\n",
       "Card                   0\n",
       "Year                   0\n",
       "Month                  0\n",
       "Day                    0\n",
       "Amount                 0\n",
       "UseChip                0\n",
       "MerchantName           0\n",
       "MerchantCity           0\n",
       "MerchantCountry    73784\n",
       "Zip                77856\n",
       "MCC                    0\n",
       "IssFraud?              0\n",
       "dtype: int64"
      ]
     },
     "execution_count": 5,
     "metadata": {},
     "output_type": "execute_result"
    }
   ],
   "source": [
    "df.isnull().sum()"
   ]
  },
  {
   "cell_type": "code",
   "execution_count": 6,
   "id": "5c082732-3bd5-47b9-beab-72a32c45225a",
   "metadata": {},
   "outputs": [
    {
     "data": {
      "text/html": [
       "<div>\n",
       "<style scoped>\n",
       "    .dataframe tbody tr th:only-of-type {\n",
       "        vertical-align: middle;\n",
       "    }\n",
       "\n",
       "    .dataframe tbody tr th {\n",
       "        vertical-align: top;\n",
       "    }\n",
       "\n",
       "    .dataframe thead th {\n",
       "        text-align: right;\n",
       "    }\n",
       "</style>\n",
       "<table border=\"1\" class=\"dataframe\">\n",
       "  <thead>\n",
       "    <tr style=\"text-align: right;\">\n",
       "      <th></th>\n",
       "      <th>User</th>\n",
       "      <th>Card</th>\n",
       "      <th>Year</th>\n",
       "      <th>Month</th>\n",
       "      <th>Day</th>\n",
       "      <th>Amount</th>\n",
       "      <th>UseChip</th>\n",
       "      <th>MerchantName</th>\n",
       "      <th>MerchantCity</th>\n",
       "      <th>MerchantCountry</th>\n",
       "      <th>Zip</th>\n",
       "      <th>MCC</th>\n",
       "      <th>IssFraud?</th>\n",
       "    </tr>\n",
       "  </thead>\n",
       "  <tbody>\n",
       "    <tr>\n",
       "      <th>0</th>\n",
       "      <td>1</td>\n",
       "      <td>1</td>\n",
       "      <td>2005</td>\n",
       "      <td>9</td>\n",
       "      <td>6</td>\n",
       "      <td>$16.68</td>\n",
       "      <td>Swipe Transaction</td>\n",
       "      <td>Ross Package Store</td>\n",
       "      <td>Berkley</td>\n",
       "      <td>USA</td>\n",
       "      <td>48072.0</td>\n",
       "      <td>5921</td>\n",
       "      <td>No</td>\n",
       "    </tr>\n",
       "    <tr>\n",
       "      <th>1</th>\n",
       "      <td>1</td>\n",
       "      <td>1</td>\n",
       "      <td>2005</td>\n",
       "      <td>9</td>\n",
       "      <td>9</td>\n",
       "      <td>$224.70</td>\n",
       "      <td>Online Transaction</td>\n",
       "      <td>Digital Delivery Company 7</td>\n",
       "      <td>San Jose</td>\n",
       "      <td>NaN</td>\n",
       "      <td>NaN</td>\n",
       "      <td>4899</td>\n",
       "      <td>No</td>\n",
       "    </tr>\n",
       "    <tr>\n",
       "      <th>2</th>\n",
       "      <td>1</td>\n",
       "      <td>1</td>\n",
       "      <td>2005</td>\n",
       "      <td>9</td>\n",
       "      <td>9</td>\n",
       "      <td>$145.61</td>\n",
       "      <td>Online Transaction</td>\n",
       "      <td>Travel Booking Company 4</td>\n",
       "      <td>San Jose</td>\n",
       "      <td>NaN</td>\n",
       "      <td>NaN</td>\n",
       "      <td>4722</td>\n",
       "      <td>No</td>\n",
       "    </tr>\n",
       "    <tr>\n",
       "      <th>3</th>\n",
       "      <td>1</td>\n",
       "      <td>1</td>\n",
       "      <td>2005</td>\n",
       "      <td>9</td>\n",
       "      <td>9</td>\n",
       "      <td>$229.21</td>\n",
       "      <td>Swipe Transaction</td>\n",
       "      <td>Car Rental Company 4</td>\n",
       "      <td>Belleville</td>\n",
       "      <td>USA</td>\n",
       "      <td>48111.0</td>\n",
       "      <td>3405</td>\n",
       "      <td>No</td>\n",
       "    </tr>\n",
       "    <tr>\n",
       "      <th>4</th>\n",
       "      <td>1</td>\n",
       "      <td>1</td>\n",
       "      <td>2005</td>\n",
       "      <td>9</td>\n",
       "      <td>9</td>\n",
       "      <td>$11.00</td>\n",
       "      <td>Swipe Transaction</td>\n",
       "      <td>Supermarket Chain 3</td>\n",
       "      <td>Southfield</td>\n",
       "      <td>USA</td>\n",
       "      <td>48075.0</td>\n",
       "      <td>5411</td>\n",
       "      <td>No</td>\n",
       "    </tr>\n",
       "  </tbody>\n",
       "</table>\n",
       "</div>"
      ],
      "text/plain": [
       "   User  Card  Year  Month  Day   Amount             UseChip  \\\n",
       "0     1     1  2005      9    6   $16.68   Swipe Transaction   \n",
       "1     1     1  2005      9    9  $224.70  Online Transaction   \n",
       "2     1     1  2005      9    9  $145.61  Online Transaction   \n",
       "3     1     1  2005      9    9  $229.21   Swipe Transaction   \n",
       "4     1     1  2005      9    9   $11.00   Swipe Transaction   \n",
       "\n",
       "                 MerchantName MerchantCity MerchantCountry      Zip   MCC  \\\n",
       "0          Ross Package Store      Berkley             USA  48072.0  5921   \n",
       "1  Digital Delivery Company 7    San Jose              NaN      NaN  4899   \n",
       "2    Travel Booking Company 4    San Jose              NaN      NaN  4722   \n",
       "3        Car Rental Company 4   Belleville             USA  48111.0  3405   \n",
       "4         Supermarket Chain 3   Southfield             USA  48075.0  5411   \n",
       "\n",
       "  IssFraud?  \n",
       "0        No  \n",
       "1        No  \n",
       "2        No  \n",
       "3        No  \n",
       "4        No  "
      ]
     },
     "execution_count": 6,
     "metadata": {},
     "output_type": "execute_result"
    }
   ],
   "source": [
    "df.head()"
   ]
  },
  {
   "cell_type": "markdown",
   "id": "41caf4c3",
   "metadata": {},
   "source": [
    "# Check balanced data or imbalanced data"
   ]
  },
  {
   "cell_type": "code",
   "execution_count": 7,
   "id": "a766d6e9-e904-4e39-abeb-dabafcec9c1c",
   "metadata": {},
   "outputs": [
    {
     "data": {
      "text/plain": [
       "No     691048\n",
       "Yes       872\n",
       "Name: IssFraud?, dtype: int64"
      ]
     },
     "execution_count": 7,
     "metadata": {},
     "output_type": "execute_result"
    }
   ],
   "source": [
    "df['IssFraud?'].value_counts()"
   ]
  },
  {
   "cell_type": "code",
   "execution_count": 8,
   "id": "d415ee8e",
   "metadata": {},
   "outputs": [
    {
     "data": {
      "image/png": "[encoded data removed]",
      "text/plain": [
       "<Figure size 800x600 with 1 Axes>"
      ]
     },
     "metadata": {},
     "output_type": "display_data"
    }
   ],
   "source": [
    "# Plot the value counts using Seaborn\n",
    "plt.figure(figsize=(8, 6))\n",
    "sns.countplot(data=df, x='IssFraud?', palette='viridis')\n",
    "plt.title('Fraud vs Not Fraud Counts')\n",
    "plt.xlabel('Fraud (1) / Not Fraud (0)')\n",
    "plt.ylabel('Counts')\n",
    "plt.show()"
   ]
  },
  {
   "cell_type": "markdown",
   "id": "99bdb20c",
   "metadata": {},
   "source": [
    "# Data preprocessing"
   ]
  },
  {
   "cell_type": "markdown",
   "id": "433c58b3",
   "metadata": {},
   "source": [
    "# split the numerical and categorical values"
   ]
  },
  {
   "cell_type": "code",
   "execution_count": 9,
   "id": "bb76b6fc-6b6e-44d7-a7c6-53c34f6d6aab",
   "metadata": {},
   "outputs": [],
   "source": [
    "def quanQual(df):\n",
    "    quan=[]\n",
    "    qual=[]\n",
    "    for columnName in df.columns:\n",
    "    #print(columnName)\n",
    "        if(df[columnName].dtypes=='O'):\n",
    "        #print(\"qual\")\n",
    "            qual.append(columnName)\n",
    "        else:\n",
    "        #print(\"quan\")\n",
    "             quan.append(columnName)\n",
    "    return quan,qual"
   ]
  },
  {
   "cell_type": "code",
   "execution_count": 10,
   "id": "887ba78f-f15c-4b32-97f6-2e8450a63f68",
   "metadata": {},
   "outputs": [],
   "source": [
    "quan,qual=quanQual(df)"
   ]
  },
  {
   "cell_type": "code",
   "execution_count": 11,
   "id": "f057b2e8-1016-41bd-afac-29b4d46d2917",
   "metadata": {},
   "outputs": [
    {
     "data": {
      "text/plain": [
       "['User', 'Card', 'Year', 'Month', 'Day', 'Zip', 'MCC']"
      ]
     },
     "execution_count": 11,
     "metadata": {},
     "output_type": "execute_result"
    }
   ],
   "source": [
    "quan"
   ]
  },
  {
   "cell_type": "code",
   "execution_count": 12,
   "id": "ad44047b-f4e2-43ae-a094-5256a060f938",
   "metadata": {},
   "outputs": [
    {
     "data": {
      "text/plain": [
       "['Amount',\n",
       " 'UseChip',\n",
       " 'MerchantName',\n",
       " 'MerchantCity',\n",
       " 'MerchantCountry',\n",
       " 'IssFraud?']"
      ]
     },
     "execution_count": 12,
     "metadata": {},
     "output_type": "execute_result"
    }
   ],
   "source": [
    "qual"
   ]
  },
  {
   "cell_type": "markdown",
   "id": "a185a889",
   "metadata": {},
   "source": [
    "# handling missing data"
   ]
  },
  {
   "cell_type": "code",
   "execution_count": 13,
   "id": "d7b57514-c790-4078-9674-15b90554c49a",
   "metadata": {},
   "outputs": [],
   "source": [
    "import numpy as np\n",
    "from sklearn.impute import SimpleImputer\n",
    "\n",
    "# Create the imputer instance\n",
    "imp = SimpleImputer(missing_values=np.nan, strategy='mean', copy=True)\n",
    "\n",
    "# Fit the imputer to the data\n",
    "imp.fit(df[quan])\n",
    "\n",
    "datan=imp.transform(df[quan])"
   ]
  },
  {
   "cell_type": "code",
   "execution_count": 14,
   "id": "69026b1e-30a3-4de0-b3cf-d17d0f321358",
   "metadata": {},
   "outputs": [
    {
     "data": {
      "text/plain": [
       "array([[1.00000000e+00, 1.00000000e+00, 2.00500000e+03, ...,\n",
       "        6.00000000e+00, 4.80720000e+04, 5.92100000e+03],\n",
       "       [1.00000000e+00, 1.00000000e+00, 2.00500000e+03, ...,\n",
       "        9.00000000e+00, 5.16946769e+04, 4.89900000e+03],\n",
       "       [1.00000000e+00, 1.00000000e+00, 2.00500000e+03, ...,\n",
       "        9.00000000e+00, 5.16946769e+04, 4.72200000e+03],\n",
       "       ...,\n",
       "       [1.99900000e+03, 4.00000000e+00, 2.01900000e+03, ...,\n",
       "        1.50000000e+01, 1.13730000e+04, 5.41100000e+03],\n",
       "       [1.99900000e+03, 4.00000000e+00, 2.01900000e+03, ...,\n",
       "        1.70000000e+01, 1.13700000e+04, 5.94700000e+03],\n",
       "       [1.99900000e+03, 4.00000000e+00, 2.01900000e+03, ...,\n",
       "        2.40000000e+01, 1.13700000e+04, 7.54200000e+03]])"
      ]
     },
     "execution_count": 14,
     "metadata": {},
     "output_type": "execute_result"
    }
   ],
   "source": [
    "datan"
   ]
  },
  {
   "cell_type": "code",
   "execution_count": 15,
   "id": "6ed81e05-0942-4c67-905e-6f9868c1d7a4",
   "metadata": {},
   "outputs": [],
   "source": [
    "datan=pd.DataFrame(datan,columns=quan)"
   ]
  },
  {
   "cell_type": "code",
   "execution_count": 16,
   "id": "4eaec742-b593-4963-b651-569d2dfeb430",
   "metadata": {},
   "outputs": [],
   "source": [
    "import numpy as np\n",
    "from sklearn.impute import SimpleImputer\n",
    "\n",
    "# Create the imputer instance\n",
    "imp = SimpleImputer(missing_values=np.nan, strategy='most_frequent')\n",
    "\n",
    "# Fit the imputer to the data\n",
    "imp.fit(df[qual])\n",
    "\n",
    "datal=imp.transform(df[qual])"
   ]
  },
  {
   "cell_type": "code",
   "execution_count": 17,
   "id": "bf49a8e8-778b-4ca7-841c-e90ca8235d17",
   "metadata": {},
   "outputs": [
    {
     "data": {
      "text/plain": [
       "array([['$16.68', 'Swipe Transaction', 'Ross Package Store', 'Berkley',\n",
       "        'USA', 'No'],\n",
       "       ['$224.70', 'Online Transaction', 'Digital Delivery Company 7',\n",
       "        'San Jose ', 'USA', 'No'],\n",
       "       ['$145.61', 'Online Transaction', 'Travel Booking Company 4',\n",
       "        'San Jose ', 'USA', 'No'],\n",
       "       ...,\n",
       "       ['$7.27', 'Chip Transaction', 'Supermarket Chain 1', 'Elmhurst',\n",
       "        'USA', 'No'],\n",
       "       ['$5.39', 'Chip Transaction', 'Acme Souvenirs', 'East Elmhurst',\n",
       "        'USA', 'No'],\n",
       "       ['$15.59', 'Chip Transaction', 'Fox East Elmhurst Car Cleaners',\n",
       "        'East Elmhurst', 'USA', 'No']], dtype=object)"
      ]
     },
     "execution_count": 17,
     "metadata": {},
     "output_type": "execute_result"
    }
   ],
   "source": [
    "datal"
   ]
  },
  {
   "cell_type": "code",
   "execution_count": 18,
   "id": "b9bcd882-0f11-466a-8890-7a97226f9573",
   "metadata": {},
   "outputs": [],
   "source": [
    "datal=pd.DataFrame(datal,columns=qual)"
   ]
  },
  {
   "cell_type": "code",
   "execution_count": 19,
   "id": "7a2d303c-c0a6-4531-a192-316899a7461e",
   "metadata": {},
   "outputs": [],
   "source": [
    "df=pd.concat([datan,datal],axis=1)"
   ]
  },
  {
   "cell_type": "markdown",
   "id": "e93d69e7",
   "metadata": {},
   "source": [
    "# Now we saved the data as Preprocessed_credit_card_detection.csv"
   ]
  },
  {
   "cell_type": "code",
   "execution_count": 20,
   "id": "c2975f1b-3cd3-4998-800f-a810b41dce78",
   "metadata": {},
   "outputs": [],
   "source": [
    "csv=df.to_csv(\"Preprocessed_credit_card_detection.csv\",index=False)"
   ]
  },
  {
   "cell_type": "code",
   "execution_count": 21,
   "id": "b892e283-a51b-4cb6-9ac1-920b5be1203e",
   "metadata": {},
   "outputs": [],
   "source": [
    "csv"
   ]
  },
  {
   "cell_type": "code",
   "execution_count": null,
   "id": "eb8f10fe-4f61-4fac-bd20-af391fc84947",
   "metadata": {},
   "outputs": [],
   "source": []
  }
 ],
 "metadata": {
  "kernelspec": {
   "display_name": "Python 3 (ipykernel)",
   "language": "python",
   "name": "python3"
  },
  "language_info": {
   "codemirror_mode": {
    "name": "ipython",
    "version": 3
   },
   "file_extension": ".py",
   "mimetype": "text/x-python",
   "name": "python",
   "nbconvert_exporter": "python",
   "pygments_lexer": "ipython3",
   "version": "3.9.13"
  }
 },
 "nbformat": 4,
 "nbformat_minor": 5
}
